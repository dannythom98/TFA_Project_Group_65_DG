{
 "cells": [
  {
   "cell_type": "code",
   "execution_count": 1,
   "id": "76f8aff8-cb25-44af-95ce-43dab64cb9bc",
   "metadata": {},
   "outputs": [],
   "source": [
    "import pandas as pd\n",
    "csv_FileName = '311_Service_Requests_2020.csv'\n",
    "lookup_zip = '11235'\n",
    "df = pd.read_csv(csv_FileName, dtype = \"str\")"
   ]
  },
  {
   "cell_type": "code",
   "execution_count": 2,
   "id": "cd4bf0e7-45ad-40ac-b50c-69bf05c7e62c",
   "metadata": {},
   "outputs": [],
   "source": [
    "#Parking_proportion in filtered zip dataset\n",
    "zip_search = df[df[\"Incident Zip\"]==lookup_zip]\n",
    "Complaint_Type_counts_local = zip_search['Complaint Type'].value_counts()\n",
    "Illegal_Parking_count_local= Complaint_Type_counts_local['Illegal Parking']\n",
    "Total_Complaint_counts_local = Complaint_Type_counts_local.sum()\n",
    "Parking_proportion_local = (Illegal_Parking_count_local/Total_Complaint_counts_local)*100 "
   ]
  },
  {
   "cell_type": "code",
   "execution_count": 3,
   "id": "f8bc4fa1-d6fa-4245-8dca-9ab8de9805b8",
   "metadata": {},
   "outputs": [],
   "source": [
    "#Parking ptoportion in global dataset\n",
    "Complaint_Type_counts_global = df['Complaint Type'].value_counts()\n",
    "Illegal_Parking_count_global = Complaint_Type_counts_global['Illegal Parking']\n",
    "Total_Complaint_counts_global = Complaint_Type_counts_global.sum()\n",
    "Parking_proportion_global = (Illegal_Parking_count_global/Total_Complaint_counts_global)*100 "
   ]
  },
  {
   "cell_type": "code",
   "execution_count": 4,
   "id": "877235a4-49f0-4d66-9950-9c4afb959cd5",
   "metadata": {},
   "outputs": [
    {
     "data": {
      "text/plain": [
       "True"
      ]
     },
     "execution_count": 4,
     "metadata": {},
     "output_type": "execute_result"
    }
   ],
   "source": [
    "higher_parking_proportion = (Parking_proportion_local > Parking_proportion_global)\n",
    "higher_parking_proportion"
   ]
  },
  {
   "cell_type": "code",
   "execution_count": null,
   "id": "a0af8746-420b-4693-a9f5-2f2fec168aa5",
   "metadata": {},
   "outputs": [],
   "source": []
  }
 ],
 "metadata": {
  "kernelspec": {
   "display_name": "Python 3",
   "language": "python",
   "name": "python3"
  },
  "language_info": {
   "codemirror_mode": {
    "name": "ipython",
    "version": 3
   },
   "file_extension": ".py",
   "mimetype": "text/x-python",
   "name": "python",
   "nbconvert_exporter": "python",
   "pygments_lexer": "ipython3",
   "version": "3.8.8"
  }
 },
 "nbformat": 4,
 "nbformat_minor": 5
}
