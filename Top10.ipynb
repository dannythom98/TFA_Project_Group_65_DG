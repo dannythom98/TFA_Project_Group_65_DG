{
 "cells": [
  {
   "cell_type": "code",
   "execution_count": 1,
   "id": "f0fd613a-bb18-46bc-9a37-66a3ade6ee80",
   "metadata": {},
   "outputs": [],
   "source": [
    "import pandas as pd\n",
    "csv_FileName = \"311_Service_Requests_2020.csv\"\n",
    "lookup_zip = \"11235\"\n",
    "df = pd.read_csv(csv_FileName, dtype = \"str\")"
   ]
  },
  {
   "cell_type": "code",
   "execution_count": 2,
   "id": "39d72b23-fe79-4ab7-bc51-48fcc3a750d0",
   "metadata": {},
   "outputs": [
    {
     "data": {
      "text/plain": [
       "Illegal Parking                        1874\n",
       "Noise - Residential                    1720\n",
       "Blocked Driveway                       1290\n",
       "HEAT/HOT WATER                         1285\n",
       "NonCompliance with Phased Reopening     893\n",
       "Damaged Tree                            847\n",
       "Non-Emergency Police Matter             787\n",
       "Consumer Complaint                      555\n",
       "Sidewalk Condition                      443\n",
       "General Construction/Plumbing           422\n",
       "Name: Complaint Type, dtype: int64"
      ]
     },
     "execution_count": 2,
     "metadata": {},
     "output_type": "execute_result"
    }
   ],
   "source": [
    "# Top10 complaint types in lookup_zip 11325\n",
    "zip_search = df[df[\"Incident Zip\"]==lookup_zip]\n",
    "incident_counts = zip_search[\"Complaint Type\"].value_counts()\n",
    "top10 = incident_counts.sort_values(ascending = False)[:10]\n",
    "top10"
   ]
  }
 ],
 "metadata": {
  "kernelspec": {
   "display_name": "Python 3",
   "language": "python",
   "name": "python3"
  },
  "language_info": {
   "codemirror_mode": {
    "name": "ipython",
    "version": 3
   },
   "file_extension": ".py",
   "mimetype": "text/x-python",
   "name": "python",
   "nbconvert_exporter": "python",
   "pygments_lexer": "ipython3",
   "version": "3.8.8"
  }
 },
 "nbformat": 4,
 "nbformat_minor": 5
}
